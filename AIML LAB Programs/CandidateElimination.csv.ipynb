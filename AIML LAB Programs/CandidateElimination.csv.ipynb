{
 "cells": [
  {
   "cell_type": "raw",
   "id": "5f9b4bd3",
   "metadata": {},
   "source": [
    "sky\t   airtemp\tHumidity\tWind\tWater\tforecast\tEnjoy sport\n",
    "\n",
    "Sunny\tWarm\tNormal\t   Strong\tWarm\tSame\t      Yes\n",
    "Sunny\tWarm\thigh\t   Strong\tWarm\tSame\t      Yes\n",
    "Rainy\tCold\thigh\t   Strong\tWarm\tChange\t      No\n",
    "Sunny\tWarm\thigh\t   Strong\tCool\tChange\t      Yes"
   ]
  }
 ],
 "metadata": {
  "kernelspec": {
   "display_name": "Python 3 (ipykernel)",
   "language": "python",
   "name": "python3"
  },
  "language_info": {
   "codemirror_mode": {
    "name": "ipython",
    "version": 3
   },
   "file_extension": ".py",
   "mimetype": "text/x-python",
   "name": "python",
   "nbconvert_exporter": "python",
   "pygments_lexer": "ipython3",
   "version": "3.9.7"
  }
 },
 "nbformat": 4,
 "nbformat_minor": 5
}
